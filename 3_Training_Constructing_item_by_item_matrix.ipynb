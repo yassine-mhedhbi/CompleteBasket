{
  "cells": [
    {
      "cell_type": "code",
      "execution_count": 2,
      "metadata": {
        "colab": {},
        "colab_type": "code",
        "id": "M3eJvNPpDpEk"
      },
      "outputs": [],
      "source": [
        "import pandas as pd\n",
        "import numpy as np\n",
        "import scipy.sparse as sp\n",
        "import pickle\n",
        "import os"
      ]
    },
    {
      "attachments": {},
      "cell_type": "markdown",
      "metadata": {},
      "source": [
        "## Basic Association "
      ]
    },
    {
      "cell_type": "code",
      "execution_count": 3,
      "metadata": {
        "colab": {},
        "colab_type": "code",
        "id": "utvi8CB5GAyA"
      },
      "outputs": [],
      "source": [
        "orders = pd.read_csv('src/data/order_products__prior.csv')"
      ]
    },
    {
      "cell_type": "code",
      "execution_count": 4,
      "metadata": {
        "colab": {},
        "colab_type": "code",
        "id": "pmMY9ns8Knfv"
      },
      "outputs": [],
      "source": [
        "def construct_dic_matrix(df):\n",
        "    order_groups = orders.groupby('order_id')\n",
        "    matrix = {}\n",
        "    for order_id in order_groups.groups.keys():\n",
        "        cart = order_groups.get_group(order_id)['product_id'].sort_values().to_list()\n",
        "        for i, el in enumerate(cart):\n",
        "            if el not in matrix:\n",
        "                matrix[el] = {}\n",
        "            for j in cart[(i+1):]:\n",
        "                matrix[el][j] = matrix[el].get(j, 0) + 1\n",
        "\n",
        "    delkeys = []\n",
        "    for i in matrix.keys():\n",
        "        for k,v in matrix[i].items():\n",
        "            if v == 1:\n",
        "                delkeys.append((i,k))\n",
        "\n",
        "    for i,j in delkeys:\n",
        "        del matrix[i][j]\n",
        "\n",
        "    return matrix"
      ]
    },
    {
      "cell_type": "code",
      "execution_count": 5,
      "metadata": {
        "colab": {},
        "colab_type": "code",
        "id": "2ZJ2KvMdLy4g"
      },
      "outputs": [],
      "source": [
        "def to_sparseMatrix(matrix):\n",
        "    mat = sp.dok_matrix((49689 , 49689), dtype=np.int16)\n",
        "\n",
        "    for ix1, ixx2 in matrix.items():\n",
        "        for ix2 in ixx2:\n",
        "            mat[ix1, ix2] = ixx2[ix2]\n",
        "\n",
        "    mat = mat.transpose().tocsr()\n",
        "    return mat"
      ]
    },
    {
      "cell_type": "code",
      "execution_count": 6,
      "metadata": {
        "colab": {
          "base_uri": "https://localhost:8080/",
          "height": 51
        },
        "colab_type": "code",
        "id": "LwoOrYWOMWVF",
        "outputId": "53820865-b2cf-4364-d9a6-41f7e0bf448a"
      },
      "outputs": [
        {
          "name": "stdout",
          "output_type": "stream",
          "text": [
            "CPU times: total: 13min 35s\n",
            "Wall time: 13min 38s\n"
          ]
        }
      ],
      "source": [
        "%%time\n",
        "MATRIX = construct_dic_matrix(orders)"
      ]
    },
    {
      "cell_type": "code",
      "execution_count": 7,
      "metadata": {
        "colab": {},
        "colab_type": "code",
        "id": "mCoOyAljrGMl"
      },
      "outputs": [],
      "source": [
        "sparse_matrix = to_sparseMatrix(MATRIX)"
      ]
    },
    {
      "cell_type": "code",
      "execution_count": 8,
      "metadata": {
        "colab": {},
        "colab_type": "code",
        "id": "GmU95z2nrKsb"
      },
      "outputs": [],
      "source": [
        "with open('output/BasicAsso.pkl', 'wb') as f:\n",
        "    pickle.dump(sparse_matrix, f)"
      ]
    },
    {
      "cell_type": "code",
      "execution_count": 11,
      "metadata": {},
      "outputs": [],
      "source": [
        "import neptune\n",
        "\n",
        "PROJECT=\"yassine-mhe/CompleteBasket\"\n",
        "NAME=\"blabla\"\n",
        "KEY=\"keyblala\"\n",
        "API_TOKEN=\"api_token\""
      ]
    },
    {
      "cell_type": "code",
      "execution_count": 18,
      "metadata": {
        "colab": {},
        "colab_type": "code",
        "id": "CZwAqzDHuaZY"
      },
      "outputs": [],
      "source": [
        "model[\"model/specs\"].upload('output/BasicAsso.pkl')"
      ]
    },
    {
      "cell_type": "code",
      "execution_count": 21,
      "metadata": {},
      "outputs": [],
      "source": [
        "model[\"model/specs\"].download(destination=\"downloaded_artifact\")"
      ]
    },
    {
      "attachments": {},
      "cell_type": "markdown",
      "metadata": {},
      "source": [
        "## Apriori Algorithm"
      ]
    }
  ],
  "metadata": {
    "colab": {
      "name": "3_Training_Constructing_item_by_item_matrix.ipynb",
      "provenance": []
    },
    "kernelspec": {
      "display_name": "Python 3",
      "name": "python3"
    },
    "language_info": {
      "codemirror_mode": {
        "name": "ipython",
        "version": 3
      },
      "file_extension": ".py",
      "mimetype": "text/x-python",
      "name": "python",
      "nbconvert_exporter": "python",
      "pygments_lexer": "ipython3",
      "version": "3.10.10"
    }
  },
  "nbformat": 4,
  "nbformat_minor": 0
}
