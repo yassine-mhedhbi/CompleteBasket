{
  "cells": [
    {
      "cell_type": "code",
      "execution_count": 2,
      "metadata": {
        "colab": {},
        "colab_type": "code",
        "id": "M3eJvNPpDpEk"
      },
      "outputs": [],
      "source": [
        "import pandas as pd\n",
        "import numpy as np\n",
        "import scipy.sparse as sp\n",
        "import pickle\n",
        "import os"
      ]
    },
    {
      "attachments": {},
      "cell_type": "markdown",
      "metadata": {},
      "source": [
        "## Basic Association "
      ]
    },
    {
      "cell_type": "code",
      "execution_count": 3,
      "metadata": {
        "colab": {},
        "colab_type": "code",
        "id": "utvi8CB5GAyA"
      },
      "outputs": [],
      "source": [
        "orders = pd.read_csv('src/data/order_products__prior.csv')"
      ]
    },
    {
      "cell_type": "code",
      "execution_count": 4,
      "metadata": {
        "colab": {},
        "colab_type": "code",
        "id": "pmMY9ns8Knfv"
      },
      "outputs": [],
      "source": [
        "def construct_dic_matrix(df):\n",
        "    order_groups = orders.groupby('order_id')\n",
        "    matrix = {}\n",
        "    for order_id in order_groups.groups.keys():\n",
        "        cart = order_groups.get_group(order_id)['product_id'].sort_values().to_list()\n",
        "        for i, el in enumerate(cart):\n",
        "            if el not in matrix:\n",
        "                matrix[el] = {}\n",
        "            for j in cart[(i+1):]:\n",
        "                matrix[el][j] = matrix[el].get(j, 0) + 1\n",
        "\n",
        "    delkeys = []\n",
        "    for i in matrix.keys():\n",
        "        for k,v in matrix[i].items():\n",
        "            if v == 1:\n",
        "                delkeys.append((i,k))\n",
        "\n",
        "    for i,j in delkeys:\n",
        "        del matrix[i][j]\n",
        "\n",
        "    return matrix"
      ]
    },
    {
      "cell_type": "code",
      "execution_count": 5,
      "metadata": {
        "colab": {},
        "colab_type": "code",
        "id": "2ZJ2KvMdLy4g"
      },
      "outputs": [],
      "source": [
        "def to_sparseMatrix(matrix):\n",
        "    mat = sp.dok_matrix((49689 , 49689), dtype=np.int16)\n",
        "\n",
        "    for ix1, ixx2 in matrix.items():\n",
        "        for ix2 in ixx2:\n",
        "            mat[ix1, ix2] = ixx2[ix2]\n",
        "\n",
        "    mat = mat.transpose().tocsr()\n",
        "    return mat"
      ]
    },
    {
      "cell_type": "code",
      "execution_count": 6,
      "metadata": {
        "colab": {
          "base_uri": "https://localhost:8080/",
          "height": 51
        },
        "colab_type": "code",
        "id": "LwoOrYWOMWVF",
        "outputId": "53820865-b2cf-4364-d9a6-41f7e0bf448a"
      },
      "outputs": [
        {
          "name": "stdout",
          "output_type": "stream",
          "text": [
            "CPU times: total: 13min 35s\n",
            "Wall time: 13min 38s\n"
          ]
        }
      ],
      "source": [
        "%%time\n",
        "MATRIX = construct_dic_matrix(orders)"
      ]
    },
    {
      "cell_type": "code",
      "execution_count": 7,
      "metadata": {
        "colab": {},
        "colab_type": "code",
        "id": "mCoOyAljrGMl"
      },
      "outputs": [],
      "source": [
        "sparse_matrix = to_sparseMatrix(MATRIX)"
      ]
    },
    {
      "cell_type": "code",
      "execution_count": 9,
      "metadata": {},
      "outputs": [
        {
          "name": "stdout",
          "output_type": "stream",
          "text": [
            "Collecting neptune\n",
            "  Downloading neptune-1.3.1-py3-none-any.whl (450 kB)\n",
            "     ---------------------------------------- 0.0/450.4 kB ? eta -:--:--\n",
            "     ------------------------------------- 450.4/450.4 kB 27.5 MB/s eta 0:00:00\n",
            "Collecting click>=7.0\n",
            "  Using cached click-8.1.3-py3-none-any.whl (96 kB)\n",
            "Requirement already satisfied: Pillow>=1.1.6 in c:\\programdata\\anaconda3\\envs\\d2l\\lib\\site-packages (from neptune) (9.4.0)\n",
            "Collecting boto3>=1.16.0\n",
            "  Downloading boto3-1.27.0-py3-none-any.whl (135 kB)\n",
            "     ---------------------------------------- 0.0/135.9 kB ? eta -:--:--\n",
            "     ---------------------------------------- 135.9/135.9 kB ? eta 0:00:00\n",
            "Requirement already satisfied: psutil in c:\\programdata\\anaconda3\\envs\\d2l\\lib\\site-packages (from neptune) (5.9.0)\n",
            "Collecting oauthlib>=2.1.0\n",
            "  Using cached oauthlib-3.2.2-py3-none-any.whl (151 kB)\n",
            "Collecting swagger-spec-validator>=2.7.4\n",
            "  Using cached swagger_spec_validator-3.0.3-py2.py3-none-any.whl (27 kB)\n",
            "Collecting PyJWT\n",
            "  Downloading PyJWT-2.7.0-py3-none-any.whl (22 kB)\n",
            "Collecting bravado<12.0.0,>=11.0.0\n",
            "  Using cached bravado-11.0.3-py2.py3-none-any.whl (38 kB)\n",
            "Collecting GitPython>=2.0.8\n",
            "  Using cached GitPython-3.1.31-py3-none-any.whl (184 kB)\n",
            "Requirement already satisfied: requests>=2.20.0 in c:\\programdata\\anaconda3\\envs\\d2l\\lib\\site-packages (from neptune) (2.28.1)\n",
            "Requirement already satisfied: six>=1.12.0 in c:\\programdata\\anaconda3\\envs\\d2l\\lib\\site-packages (from neptune) (1.16.0)\n",
            "Requirement already satisfied: packaging in c:\\programdata\\anaconda3\\envs\\d2l\\lib\\site-packages (from neptune) (23.0)\n",
            "Requirement already satisfied: pandas in c:\\programdata\\anaconda3\\envs\\d2l\\lib\\site-packages (from neptune) (1.5.3)\n",
            "Requirement already satisfied: urllib3 in c:\\programdata\\anaconda3\\envs\\d2l\\lib\\site-packages (from neptune) (1.26.14)\n",
            "Requirement already satisfied: websocket-client!=1.0.0,>=0.35.0 in c:\\programdata\\anaconda3\\envs\\d2l\\lib\\site-packages (from neptune) (0.58.0)\n",
            "Collecting future>=0.17.1\n",
            "  Using cached future-0.18.3.tar.gz (840 kB)\n",
            "  Preparing metadata (setup.py): started\n",
            "  Preparing metadata (setup.py): finished with status 'done'\n",
            "Collecting requests-oauthlib>=1.0.0\n",
            "  Using cached requests_oauthlib-1.3.1-py2.py3-none-any.whl (23 kB)\n",
            "Collecting pipreqs>=0.4\n",
            "  Downloading pipreqs-0.4.13-py2.py3-none-any.whl (33 kB)\n",
            "Collecting botocore<1.31.0,>=1.30.0\n",
            "  Downloading botocore-1.30.0-py3-none-any.whl (11.0 MB)\n",
            "     ---------------------------------------- 0.0/11.0 MB ? eta -:--:--\n",
            "     ------------ --------------------------- 3.3/11.0 MB 69.9 MB/s eta 0:00:01\n",
            "     ------------------------------- -------- 8.7/11.0 MB 92.7 MB/s eta 0:00:01\n",
            "     -------------------------------------  11.0/11.0 MB 110.0 MB/s eta 0:00:01\n",
            "     --------------------------------------- 11.0/11.0 MB 81.8 MB/s eta 0:00:00\n",
            "Collecting s3transfer<0.7.0,>=0.6.0\n",
            "  Downloading s3transfer-0.6.1-py3-none-any.whl (79 kB)\n",
            "     ---------------------------------------- 0.0/79.8 kB ? eta -:--:--\n",
            "     ---------------------------------------- 79.8/79.8 kB 4.6 MB/s eta 0:00:00\n",
            "Collecting jmespath<2.0.0,>=0.7.1\n",
            "  Using cached jmespath-1.0.1-py3-none-any.whl (20 kB)\n",
            "Requirement already satisfied: python-dateutil in c:\\programdata\\anaconda3\\envs\\d2l\\lib\\site-packages (from bravado<12.0.0,>=11.0.0->neptune) (2.8.2)\n",
            "Collecting monotonic\n",
            "  Using cached monotonic-1.6-py2.py3-none-any.whl (8.2 kB)\n",
            "Requirement already satisfied: typing-extensions in c:\\programdata\\anaconda3\\envs\\d2l\\lib\\site-packages (from bravado<12.0.0,>=11.0.0->neptune) (4.4.0)\n",
            "Collecting pyyaml\n",
            "  Using cached PyYAML-6.0-cp310-cp310-win_amd64.whl (151 kB)\n",
            "Collecting bravado-core>=5.16.1\n",
            "  Using cached bravado_core-5.17.1-py2.py3-none-any.whl (67 kB)\n",
            "Collecting msgpack\n",
            "  Downloading msgpack-1.0.5-cp310-cp310-win_amd64.whl (61 kB)\n",
            "     ---------------------------------------- 0.0/61.6 kB ? eta -:--:--\n",
            "     ---------------------------------------- 61.6/61.6 kB 1.7 MB/s eta 0:00:00\n",
            "Collecting simplejson\n",
            "  Downloading simplejson-3.19.1-cp310-cp310-win_amd64.whl (75 kB)\n",
            "     ---------------------------------------- 0.0/75.5 kB ? eta -:--:--\n",
            "     ---------------------------------------- 75.5/75.5 kB ? eta 0:00:00\n",
            "Requirement already satisfied: colorama in c:\\programdata\\anaconda3\\envs\\d2l\\lib\\site-packages (from click>=7.0->neptune) (0.4.6)\n",
            "Collecting gitdb<5,>=4.0.1\n",
            "  Using cached gitdb-4.0.10-py3-none-any.whl (62 kB)\n",
            "Collecting yarg\n",
            "  Downloading yarg-0.1.9-py2.py3-none-any.whl (19 kB)\n",
            "Collecting docopt\n",
            "  Downloading docopt-0.6.2.tar.gz (25 kB)\n",
            "  Preparing metadata (setup.py): started\n",
            "  Preparing metadata (setup.py): finished with status 'done'\n",
            "Requirement already satisfied: charset-normalizer<3,>=2 in c:\\programdata\\anaconda3\\envs\\d2l\\lib\\site-packages (from requests>=2.20.0->neptune) (2.0.4)\n",
            "Requirement already satisfied: certifi>=2017.4.17 in c:\\programdata\\anaconda3\\envs\\d2l\\lib\\site-packages (from requests>=2.20.0->neptune) (2022.12.7)\n",
            "Requirement already satisfied: idna<4,>=2.5 in c:\\programdata\\anaconda3\\envs\\d2l\\lib\\site-packages (from requests>=2.20.0->neptune) (3.4)\n",
            "Requirement already satisfied: jsonschema in c:\\programdata\\anaconda3\\envs\\d2l\\lib\\site-packages (from swagger-spec-validator>=2.7.4->neptune) (4.17.3)\n",
            "Requirement already satisfied: numpy>=1.21.0 in c:\\programdata\\anaconda3\\envs\\d2l\\lib\\site-packages (from pandas->neptune) (1.23.5)\n",
            "Requirement already satisfied: pytz>=2020.1 in c:\\programdata\\anaconda3\\envs\\d2l\\lib\\site-packages (from pandas->neptune) (2022.7)\n",
            "Collecting jsonref\n",
            "  Using cached jsonref-1.1.0-py3-none-any.whl (9.4 kB)\n",
            "Collecting smmap<6,>=3.0.1\n",
            "  Using cached smmap-5.0.0-py3-none-any.whl (24 kB)\n",
            "Requirement already satisfied: pyrsistent!=0.17.0,!=0.17.1,!=0.17.2,>=0.14.0 in c:\\programdata\\anaconda3\\envs\\d2l\\lib\\site-packages (from jsonschema->swagger-spec-validator>=2.7.4->neptune) (0.18.0)\n",
            "Requirement already satisfied: attrs>=17.4.0 in c:\\programdata\\anaconda3\\envs\\d2l\\lib\\site-packages (from jsonschema->swagger-spec-validator>=2.7.4->neptune) (22.1.0)\n",
            "Collecting webcolors>=1.11\n",
            "  Using cached webcolors-1.13-py3-none-any.whl (14 kB)\n",
            "Collecting rfc3339-validator\n",
            "  Using cached rfc3339_validator-0.1.4-py2.py3-none-any.whl (3.5 kB)\n",
            "Collecting fqdn\n",
            "  Using cached fqdn-1.5.1-py3-none-any.whl (9.1 kB)\n",
            "Collecting jsonpointer>1.13\n",
            "  Downloading jsonpointer-2.4-py2.py3-none-any.whl (7.8 kB)\n",
            "Collecting isoduration\n",
            "  Using cached isoduration-20.11.0-py3-none-any.whl (11 kB)\n",
            "Collecting uri-template\n",
            "  Downloading uri_template-1.3.0-py3-none-any.whl (11 kB)\n",
            "Collecting rfc3987\n",
            "  Using cached rfc3987-1.3.8-py2.py3-none-any.whl (13 kB)\n",
            "Collecting arrow>=0.15.0\n",
            "  Using cached arrow-1.2.3-py3-none-any.whl (66 kB)\n",
            "Building wheels for collected packages: future, docopt\n",
            "  Building wheel for future (setup.py): started\n",
            "  Building wheel for future (setup.py): finished with status 'done'\n",
            "  Created wheel for future: filename=future-0.18.3-py3-none-any.whl size=492055 sha256=1c88f46d6a064b73d41b357fa61d5f308f95bbd5ca448f871f2f8475e34a7948\n",
            "  Stored in directory: c:\\users\\kaito_kid14\\appdata\\local\\pip\\cache\\wheels\\5e\\a9\\47\\f118e66afd12240e4662752cc22cefae5d97275623aa8ef57d\n",
            "  Building wheel for docopt (setup.py): started\n",
            "  Building wheel for docopt (setup.py): finished with status 'done'\n",
            "  Created wheel for docopt: filename=docopt-0.6.2-py2.py3-none-any.whl size=13775 sha256=5a800c91580843d75622afbf6080f859d61ebc42725544c8d52aa42723940829\n",
            "  Stored in directory: c:\\users\\kaito_kid14\\appdata\\local\\pip\\cache\\wheels\\fc\\ab\\d4\\5da2067ac95b36618c629a5f93f809425700506f72c9732fac\n",
            "Successfully built future docopt\n",
            "Installing collected packages: rfc3987, msgpack, monotonic, docopt, webcolors, uri-template, smmap, simplejson, rfc3339-validator, pyyaml, PyJWT, oauthlib, jsonref, jsonpointer, jmespath, future, fqdn, click, yarg, swagger-spec-validator, requests-oauthlib, gitdb, botocore, arrow, s3transfer, pipreqs, isoduration, GitPython, boto3, bravado-core, bravado, neptune\n",
            "Successfully installed GitPython-3.1.31 PyJWT-2.7.0 arrow-1.2.3 boto3-1.27.0 botocore-1.30.0 bravado-11.0.3 bravado-core-5.17.1 click-8.1.3 docopt-0.6.2 fqdn-1.5.1 future-0.18.3 gitdb-4.0.10 isoduration-20.11.0 jmespath-1.0.1 jsonpointer-2.4 jsonref-1.1.0 monotonic-1.6 msgpack-1.0.5 neptune-1.3.1 oauthlib-3.2.2 pipreqs-0.4.13 pyyaml-6.0 requests-oauthlib-1.3.1 rfc3339-validator-0.1.4 rfc3987-1.3.8 s3transfer-0.6.1 simplejson-3.19.1 smmap-5.0.0 swagger-spec-validator-3.0.3 uri-template-1.3.0 webcolors-1.13 yarg-0.1.9\n"
          ]
        }
      ],
      "source": [
        "!pip install neptune"
      ]
    },
    {
      "cell_type": "code",
      "execution_count": 8,
      "metadata": {
        "colab": {},
        "colab_type": "code",
        "id": "GmU95z2nrKsb"
      },
      "outputs": [],
      "source": [
        "with open('output/BasicAsso.pkl', 'wb') as f:\n",
        "    pickle.dump(sparse_matrix, f)"
      ]
    },
    {
      "cell_type": "code",
      "execution_count": 11,
      "metadata": {},
      "outputs": [],
      "source": [
        "import neptune\n",
        "\n",
        "PROJECT=\"yassine-mhe/CompleteBasket\"\n",
        "NAME=\"blabla\"\n",
        "KEY=\"keyblala\"\n",
        "API_TOKEN=\"api_token\""
      ]
    },
    {
      "cell_type": "code",
      "execution_count": 13,
      "metadata": {
        "colab": {
          "base_uri": "https://localhost:8080/",
          "height": 51
        },
        "colab_type": "code",
        "id": "kRaaQejOuLDs",
        "outputId": "bd88f291-26c8-4686-aa72-5c495e25efd4"
      },
      "outputs": [
        {
          "name": "stdout",
          "output_type": "stream",
          "text": [
            "https://app.neptune.ai/yassine-mhe/CompleteBasket/m/COM-MOD\n"
          ]
        }
      ],
      "source": [
        "model = neptune.init_model(\n",
        "    name=NAME,\n",
        "    key=KEY, \n",
        "    project=PROJECT, \n",
        "    api_token=API_TOKEN\n",
        ")"
      ]
    },
    {
      "cell_type": "code",
      "execution_count": 14,
      "metadata": {
        "colab": {},
        "colab_type": "code",
        "id": "CZwAqzDHuaZY"
      },
      "outputs": [],
      "source": [
        "model[\"model/specs\"].upload('output/BasicAsso.pkl')"
      ]
    },
    {
      "cell_type": "code",
      "execution_count": null,
      "metadata": {},
      "outputs": [],
      "source": []
    },
    {
      "attachments": {},
      "cell_type": "markdown",
      "metadata": {},
      "source": [
        "## Apriori Algorithm"
      ]
    }
  ],
  "metadata": {
    "colab": {
      "name": "3_Training_Constructing_item_by_item_matrix.ipynb",
      "provenance": []
    },
    "kernelspec": {
      "display_name": "Python 3",
      "name": "python3"
    },
    "language_info": {
      "codemirror_mode": {
        "name": "ipython",
        "version": 3
      },
      "file_extension": ".py",
      "mimetype": "text/x-python",
      "name": "python",
      "nbconvert_exporter": "python",
      "pygments_lexer": "ipython3",
      "version": "3.10.10"
    }
  },
  "nbformat": 4,
  "nbformat_minor": 0
}
