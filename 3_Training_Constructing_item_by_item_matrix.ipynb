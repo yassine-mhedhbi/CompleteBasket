{
  "cells": [
    {
      "cell_type": "code",
      "metadata": {
        "id": "M3eJvNPpDpEk",
        "colab_type": "code",
        "colab": {}
      },
      "source": [
        "import pandas as pd\n",
        "import numpy as np\n",
        "import scipy.sparse as sp\n",
        "import pickle\n",
        "import os"
      ],
      "execution_count": 1,
      "outputs": []
    },
    {
      "cell_type": "code",
      "metadata": {
        "id": "utvi8CB5GAyA",
        "colab_type": "code",
        "colab": {}
      },
      "source": [
        "orders = pd.read_csv('instacart_2017_05_01/order_products__prior.csv')"
      ],
      "execution_count": 2,
      "outputs": []
    },
    {
      "cell_type": "code",
      "metadata": {
        "id": "pmMY9ns8Knfv",
        "colab_type": "code",
        "colab": {}
      },
      "source": [
        "def construct_dic_matrix(df):\n",
        "    order_groups = orders.groupby('order_id')\n",
        "    matrix = {}\n",
        "    for order_id in order_groups.groups.keys():\n",
        "        cart = order_groups.get_group(order_id)['product_id'].sort_values().to_list()\n",
        "        for i, el in enumerate(cart):\n",
        "            if el not in matrix:\n",
        "                matrix[el] = {}\n",
        "            for j in cart[(i+1):]:\n",
        "                matrix[el][j] = matrix[el].get(j, 0) + 1\n",
        "\n",
        "    delkeys = []\n",
        "    for i in matrix.keys():\n",
        "        for k,v in matrix[i].items():\n",
        "            if v == 1:\n",
        "                delkeys.append((i,k))\n",
        "\n",
        "    for i,j in delkeys:\n",
        "        del matrix[i][j]\n",
        "\n",
        "    return matrix"
      ],
      "execution_count": 4,
      "outputs": []
    },
    {
      "cell_type": "code",
      "metadata": {
        "id": "2ZJ2KvMdLy4g",
        "colab_type": "code",
        "colab": {}
      },
      "source": [
        "def to_sparseMatrix(matrix):\n",
        "    mat = sp.dok_matrix((49689 , 49689), dtype=np.int16)\n",
        "\n",
        "    for ix1, ixx2 in matrix.items():\n",
        "        for ix2 in ixx2:\n",
        "            mat[ix1, ix2] = ixx2[ix2]\n",
        "\n",
        "    mat = mat.transpose().tocsr()\n",
        "    return mat"
      ],
      "execution_count": 5,
      "outputs": []
    },
    {
      "cell_type": "code",
      "metadata": {
        "id": "LwoOrYWOMWVF",
        "colab_type": "code",
        "colab": {
          "base_uri": "https://localhost:8080/",
          "height": 51
        },
        "outputId": "53820865-b2cf-4364-d9a6-41f7e0bf448a"
      },
      "source": [
        "%%time\n",
        "MATRIX = construct_dic_matrix(orders)"
      ],
      "execution_count": 6,
      "outputs": [
        {
          "output_type": "stream",
          "text": [
            "CPU times: user 52min 24s, sys: 17.8 s, total: 52min 42s\n",
            "Wall time: 52min 31s\n"
          ],
          "name": "stdout"
        }
      ]
    },
    {
      "cell_type": "code",
      "metadata": {
        "id": "goF2bK8KMoZ0",
        "colab_type": "code",
        "colab": {}
      },
      "source": [
        "with open('output/MATRIX_DICT.pkl', 'wb') as f:\n",
        "    pickle.dump(MATRIX, f)"
      ],
      "execution_count": 0,
      "outputs": []
    },
    {
      "cell_type": "code",
      "execution_count": 6,
      "metadata": {},
      "outputs": [],
      "source": [
        "with open('output/MATRIX_DICT.pkl', 'rb') as f:\n",
        "    MATRIX = pickle.load(f)"
      ]
    },
    {
      "cell_type": "code",
      "metadata": {
        "id": "HlskVvn7q2KB",
        "colab_type": "code",
        "colab": {
          "base_uri": "https://localhost:8080/",
          "height": 34
        },
        "outputId": "5fe8a225-9b12-4662-a09f-257e93d91aae"
      },
      "source": [
        "len(MATRIX)"
      ],
      "execution_count": 5,
      "outputs": [
        {
          "output_type": "execute_result",
          "data": {
            "text/plain": "49677"
          },
          "metadata": {},
          "execution_count": 5
        }
      ]
    },
    {
      "cell_type": "code",
      "metadata": {
        "id": "mCoOyAljrGMl",
        "colab_type": "code",
        "colab": {}
      },
      "source": [
        "sparse_matrix = to_sparseMatrix(MATRIX)"
      ],
      "execution_count": 9,
      "outputs": []
    },
    {
      "cell_type": "code",
      "metadata": {
        "id": "GmU95z2nrKsb",
        "colab_type": "code",
        "colab": {}
      },
      "source": [
        "with open('SPARSE_MATRIX.pkl', 'wb') as f:\n",
        "    pickle.dump(sparse_matrix, f)"
      ],
      "execution_count": 13,
      "outputs": [
        {
          "output_type": "error",
          "ename": "NameError",
          "evalue": "name 'sparse_matrix' is not defined",
          "traceback": [
            "\u001b[0;31m---------------------------------------------------------------------------\u001b[0m",
            "\u001b[0;31mNameError\u001b[0m                                 Traceback (most recent call last)",
            "\u001b[0;32m<ipython-input-13-c4dcdb3753e1>\u001b[0m in \u001b[0;36m<module>\u001b[0;34m\u001b[0m\n\u001b[1;32m      1\u001b[0m \u001b[0;32mwith\u001b[0m \u001b[0mopen\u001b[0m\u001b[0;34m(\u001b[0m\u001b[0;34m'SPARSE_MATRIX.pkl'\u001b[0m\u001b[0;34m,\u001b[0m \u001b[0;34m'wb'\u001b[0m\u001b[0;34m)\u001b[0m \u001b[0;32mas\u001b[0m \u001b[0mf\u001b[0m\u001b[0;34m:\u001b[0m\u001b[0;34m\u001b[0m\u001b[0;34m\u001b[0m\u001b[0m\n\u001b[0;32m----> 2\u001b[0;31m     \u001b[0mpickle\u001b[0m\u001b[0;34m.\u001b[0m\u001b[0mdump\u001b[0m\u001b[0;34m(\u001b[0m\u001b[0msparse_matrix\u001b[0m\u001b[0;34m,\u001b[0m \u001b[0mf\u001b[0m\u001b[0;34m)\u001b[0m\u001b[0;34m\u001b[0m\u001b[0;34m\u001b[0m\u001b[0m\n\u001b[0m",
            "\u001b[0;31mNameError\u001b[0m: name 'sparse_matrix' is not defined"
          ]
        }
      ]
    },
    {
      "cell_type": "code",
      "metadata": {
        "id": "kRaaQejOuLDs",
        "colab_type": "code",
        "colab": {
          "base_uri": "https://localhost:8080/",
          "height": 51
        },
        "outputId": "bd88f291-26c8-4686-aa72-5c495e25efd4"
      },
      "source": [
        ""
      ],
      "execution_count": 24,
      "outputs": [
        {
          "output_type": "execute_result",
          "data": {
            "text/plain": [
              "<49689x49689 sparse matrix of type '<class 'numpy.int16'>'\n",
              "\twith 18804842 stored elements in Compressed Sparse Row format>"
            ]
          },
          "metadata": {
            "tags": []
          },
          "execution_count": 24
        }
      ]
    },
    {
      "cell_type": "code",
      "metadata": {
        "id": "CZwAqzDHuaZY",
        "colab_type": "code",
        "colab": {}
      },
      "source": [
        "sparse_matrix"
      ],
      "execution_count": 5,
      "outputs": [
        {
          "output_type": "error",
          "ename": "NameError",
          "evalue": "name 'sparse_matrix' is not defined",
          "traceback": [
            "\u001b[0;31m---------------------------------------------------------------------------\u001b[0m",
            "\u001b[0;31mNameError\u001b[0m                                 Traceback (most recent call last)",
            "\u001b[0;32m<ipython-input-5-02e330e33ec2>\u001b[0m in \u001b[0;36m<module>\u001b[0;34m\u001b[0m\n\u001b[0;32m----> 1\u001b[0;31m \u001b[0msparse_matrix\u001b[0m\u001b[0;34m\u001b[0m\u001b[0;34m\u001b[0m\u001b[0m\n\u001b[0m",
            "\u001b[0;31mNameError\u001b[0m: name 'sparse_matrix' is not defined"
          ]
        }
      ]
    },
    {
      "cell_type": "code",
      "execution_count": null,
      "metadata": {},
      "outputs": [],
      "source": []
    }
  ],
  "metadata": {
    "colab": {
      "name": "3_Training_Constructing_item_by_item_matrix.ipynb",
      "provenance": []
    },
    "kernelspec": {
      "name": "python3",
      "display_name": "Python 3"
    }
  },
  "nbformat": 4,
  "nbformat_minor": 0
}