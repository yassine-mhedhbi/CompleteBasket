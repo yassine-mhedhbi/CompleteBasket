{
 "cells": [
  {
   "cell_type": "code",
   "execution_count": 1,
   "metadata": {},
   "outputs": [],
   "source": [
    "import pandas as pd\n",
    "import numpy as np\n",
    "import scipy.sparse as sp\n",
    "import pickle\n",
    "import random\n",
    "import psycopg2"
   ]
  },
  {
   "cell_type": "code",
   "execution_count": 2,
   "metadata": {},
   "outputs": [],
   "source": [
    "with open('output/SPARSE_MATRIX.pkl', 'rb') as f:\n",
    "        smat = pickle.load(f)"
   ]
  },
  {
   "cell_type": "code",
   "execution_count": 3,
   "metadata": {},
   "outputs": [
    {
     "output_type": "execute_result",
     "data": {
      "text/plain": "                                                 product_name\nproduct_id                                                   \n1                                  Chocolate Sandwich Cookies\n2                                            All-Seasons Salt\n3                        Robust Golden Unsweetened Oolong Tea\n4           Smart Ones Classic Favorites Mini Rigatoni Wit...\n5                                   Green Chile Anytime Sauce",
      "text/html": "<div>\n<style scoped>\n    .dataframe tbody tr th:only-of-type {\n        vertical-align: middle;\n    }\n\n    .dataframe tbody tr th {\n        vertical-align: top;\n    }\n\n    .dataframe thead th {\n        text-align: right;\n    }\n</style>\n<table border=\"1\" class=\"dataframe\">\n  <thead>\n    <tr style=\"text-align: right;\">\n      <th></th>\n      <th>product_name</th>\n    </tr>\n    <tr>\n      <th>product_id</th>\n      <th></th>\n    </tr>\n  </thead>\n  <tbody>\n    <tr>\n      <td>1</td>\n      <td>Chocolate Sandwich Cookies</td>\n    </tr>\n    <tr>\n      <td>2</td>\n      <td>All-Seasons Salt</td>\n    </tr>\n    <tr>\n      <td>3</td>\n      <td>Robust Golden Unsweetened Oolong Tea</td>\n    </tr>\n    <tr>\n      <td>4</td>\n      <td>Smart Ones Classic Favorites Mini Rigatoni Wit...</td>\n    </tr>\n    <tr>\n      <td>5</td>\n      <td>Green Chile Anytime Sauce</td>\n    </tr>\n  </tbody>\n</table>\n</div>"
     },
     "metadata": {},
     "execution_count": 3
    }
   ],
   "source": [
    "products = pd.read_csv('instacart_2017_05_01/products.csv').set_index('product_id')[['product_name']]\n",
    "products.head()"
   ]
  },
  {
   "cell_type": "code",
   "execution_count": 4,
   "metadata": {},
   "outputs": [],
   "source": [
    "sparse_frame = pd.DataFrame.sparse.from_spmatrix(smat)"
   ]
  },
  {
   "cell_type": "code",
   "execution_count": 5,
   "metadata": {},
   "outputs": [],
   "source": [
    "def search(df, item):\n",
    "    return df[df.product_name.str.contains(item)]"
   ]
  },
  {
   "cell_type": "code",
   "execution_count": 6,
   "metadata": {},
   "outputs": [
    {
     "output_type": "execute_result",
     "data": {
      "text/plain": "                                                 product_name\nproduct_id                                                   \n665                                        Imitation Crabmeat\n2595        Tender white meat chicken, vegetables & rice i...\n5124        Freshly made pasta layered with seasoned meat ...\n5568                                                Lunchmeat\n6212        White meat chicken, shredded cabbage, julienne...\n8344        A golden crust surrounding pieces of all white...\n11919       Tender white meat chicken in a red chile lime ...\n15125       Tender white meat turkey & stuffing in a homes...\n16600       With seasoned meat sauce, tomato sauce & real ...\n17223       Freshly made spaghetti tossed with meatballs i...\n18188       Grilled white meat chicken over cheese tortell...\n21484                 Naturals Applewood Smoked Ham Lunchmeat\n24425       Freshly made pasta, rich meat sauce and Real M...\n25307       Tender white meat turkey, pasta, mushrooms and...\n31104       Grilled white meat chicken & penne pasta in a ...\n31329       Tender white meat chicken, vegetables & rice i...\n35413       Freshly made pasta layered between a rich meat...\n40732       White meat chipotle chicken, corn, black beans...\n42577       Grilled white meat chicken in an apple reducti...\n44265       Roasted white meat chicken, whole wheat noodle...\n48126                                Braunschweiger Lunchmeat\n49427                Premium Select Wild Fancy White Crabmeat",
      "text/html": "<div>\n<style scoped>\n    .dataframe tbody tr th:only-of-type {\n        vertical-align: middle;\n    }\n\n    .dataframe tbody tr th {\n        vertical-align: top;\n    }\n\n    .dataframe thead th {\n        text-align: right;\n    }\n</style>\n<table border=\"1\" class=\"dataframe\">\n  <thead>\n    <tr style=\"text-align: right;\">\n      <th></th>\n      <th>product_name</th>\n    </tr>\n    <tr>\n      <th>product_id</th>\n      <th></th>\n    </tr>\n  </thead>\n  <tbody>\n    <tr>\n      <td>665</td>\n      <td>Imitation Crabmeat</td>\n    </tr>\n    <tr>\n      <td>2595</td>\n      <td>Tender white meat chicken, vegetables &amp; rice i...</td>\n    </tr>\n    <tr>\n      <td>5124</td>\n      <td>Freshly made pasta layered with seasoned meat ...</td>\n    </tr>\n    <tr>\n      <td>5568</td>\n      <td>Lunchmeat</td>\n    </tr>\n    <tr>\n      <td>6212</td>\n      <td>White meat chicken, shredded cabbage, julienne...</td>\n    </tr>\n    <tr>\n      <td>8344</td>\n      <td>A golden crust surrounding pieces of all white...</td>\n    </tr>\n    <tr>\n      <td>11919</td>\n      <td>Tender white meat chicken in a red chile lime ...</td>\n    </tr>\n    <tr>\n      <td>15125</td>\n      <td>Tender white meat turkey &amp; stuffing in a homes...</td>\n    </tr>\n    <tr>\n      <td>16600</td>\n      <td>With seasoned meat sauce, tomato sauce &amp; real ...</td>\n    </tr>\n    <tr>\n      <td>17223</td>\n      <td>Freshly made spaghetti tossed with meatballs i...</td>\n    </tr>\n    <tr>\n      <td>18188</td>\n      <td>Grilled white meat chicken over cheese tortell...</td>\n    </tr>\n    <tr>\n      <td>21484</td>\n      <td>Naturals Applewood Smoked Ham Lunchmeat</td>\n    </tr>\n    <tr>\n      <td>24425</td>\n      <td>Freshly made pasta, rich meat sauce and Real M...</td>\n    </tr>\n    <tr>\n      <td>25307</td>\n      <td>Tender white meat turkey, pasta, mushrooms and...</td>\n    </tr>\n    <tr>\n      <td>31104</td>\n      <td>Grilled white meat chicken &amp; penne pasta in a ...</td>\n    </tr>\n    <tr>\n      <td>31329</td>\n      <td>Tender white meat chicken, vegetables &amp; rice i...</td>\n    </tr>\n    <tr>\n      <td>35413</td>\n      <td>Freshly made pasta layered between a rich meat...</td>\n    </tr>\n    <tr>\n      <td>40732</td>\n      <td>White meat chipotle chicken, corn, black beans...</td>\n    </tr>\n    <tr>\n      <td>42577</td>\n      <td>Grilled white meat chicken in an apple reducti...</td>\n    </tr>\n    <tr>\n      <td>44265</td>\n      <td>Roasted white meat chicken, whole wheat noodle...</td>\n    </tr>\n    <tr>\n      <td>48126</td>\n      <td>Braunschweiger Lunchmeat</td>\n    </tr>\n    <tr>\n      <td>49427</td>\n      <td>Premium Select Wild Fancy White Crabmeat</td>\n    </tr>\n  </tbody>\n</table>\n</div>"
     },
     "metadata": {},
     "execution_count": 6
    }
   ],
   "source": [
    "search(products, 'meat')"
   ]
  },
  {
   "cell_type": "code",
   "execution_count": 7,
   "metadata": {},
   "outputs": [],
   "source": [
    "def get_product(df, pid):\n",
    "    return df.loc[pid].product_name\n",
    "\n",
    "def get_all_cocart(sp_mat, pid, top=10):\n",
    "    # sp_mat[pid] column product count, row product count: sp_mat.loc[pid] (index is the product id) \n",
    "    # We are doing this because we have triangular matrix\n",
    "    return pd.concat((sp_mat[pid], sp_mat.loc[pid])).dropna().nlargest(top)\n",
    "\n",
    "\n",
    "def get_cocart(df, pid):\n",
    "    json = {}\n",
    "    for idx, val in get_all_cocart(sparse_frame, pid).iteritems():\n",
    "        if val > 0:\n",
    "            json[idx] =  val\n",
    "    json = {get_product(df, pid): json}\n",
    "    return json"
   ]
  },
  {
   "cell_type": "code",
   "execution_count": 8,
   "metadata": {},
   "outputs": [
    {
     "output_type": "execute_result",
     "data": {
      "text/plain": "{'Three Cheese Ziti, Marinara with Meatballs': {28076: 16,\n  49275: 15,\n  44792: 13,\n  24852: 8,\n  28204: 8,\n  40454: 7,\n  46674: 7,\n  4: 7,\n  36: 6,\n  4605: 6}}"
     },
     "metadata": {},
     "execution_count": 8
    }
   ],
   "source": [
    "get_cocart(products, 30)"
   ]
  },
  {
   "cell_type": "code",
   "execution_count": 9,
   "metadata": {},
   "outputs": [],
   "source": [
    "def get_all(df, idxx):\n",
    "    all_responses = [get_cocart(df, idx)[get_product(df, idx)] for idx in idxx]\n",
    "    d = {}\n",
    "    for resp in all_responses:\n",
    "        d = {**d, **resp}\n",
    "    return d"
   ]
  },
  {
   "cell_type": "code",
   "execution_count": 10,
   "metadata": {},
   "outputs": [
    {
     "output_type": "execute_result",
     "data": {
      "text/plain": "                                                 product_name\nproduct_id                                                   \n591         Oreo Cookies and Cream Chocolate Frozen Dairy ...\n796            Chocolate Reese's Peanut Butter Cup Creme Oreo\n2409                        Oreo Mini 20 Count Multipack 20oz\n3126                              Oreo Cookie n' Cream Yogurt\n3260                   Chips Ahoy!/Nutter Butter/Oreo Cookies\n4057        Oreo Instant Cookies 'n Cream Pudding & Pie Fi...\n6681               11.3 Oz. Oreo Fudge Creme Double Chocolate\n9278                              Oreo Brownie Batter Cookies\n9389        Oreo Mini/Nutter Butter Bites/Mini Chips Ahoy!...\n10812                                         Peppermint Oreo\n11281                       Double Stuf Oreo Sandwich Cookies\n12481                         Oreo Chocolate Sandwich Cookies\n13121       Oreo Thin Crisps 100 Cal Baked Chocolate Wafer...\n13542                               Oreo Cookies & Cream Bars\n13999                          Oreo Cookie Sticks & Creme Dip\n14390          Oreo Mini Bite Size Chocolate Sandwich Cookies\n14801                        Coconut Delight Creme Fudge Oreo\n16221                            Golden Oreo Sandwich Cookies\n16343                                     Chocolate Chip Oreo\n16736                              Oreo Cookie Pudding Snacks\n17499       Golden Oreo Sandwich Cookies Mini Bite Size Go...\n18709             Oreo Cookies and Cream Frozen Dairy Dessert\n22015                                   Thin Mint Crisp Oreos\n23552                                Oreo Chocolate Candy Bar\n23996                        Halloween Oreos Sandwich Cookies\n25412                                    No Bake Oreo Dessert\n25493       Cookies 'n Cream with Oreo Cookie Pieces Lowfa...\n25745                              Oreo  Ice Cream Sandwiches\n29184       Vanilla with Oreo/M&Ms Variety Pack Lowfat Yogurt\n29267                                        Mini Oreo Go Pak\n29324           Oreo Triple Double Chocolate Sandwich Cookies\n31536                               Mini Oreo Golden Snak Sak\n33186                                             Spring Oreo\n34806       Oreo Chocolate White Fudge Covered Sandwich Co...\n34936                                     Oreo Filled Cupcake\n35063              Oreo Pumpkin Spice Limited Edition Cookies\n35586                Golden Oreo Sandwich Cookies Family Size\n37282        Oreo Cookies and Cream Mint Frozen Dairy Dessert\n40007                             Premium Oreo Ice Cream Cake\n40414              Cewy Chips Ahoy! Oreo Creme Filled Cookies\n40713       Sweet Chips Ahoy, Nutter Butter & Oreo Cookie ...\n43663        Oreo Double Stuf Heads Or Tails Sandwich Cookies\n44595                                       Golden Oreo Thins\n46160            Handi-Snacks Oreo Cookie Sticks 'n Creme Dip\n47251       Peeps Oreo Limited Edition With Marshmallow Pe...\n47758                                     Oreo Ice Cream Bars",
      "text/html": "<div>\n<style scoped>\n    .dataframe tbody tr th:only-of-type {\n        vertical-align: middle;\n    }\n\n    .dataframe tbody tr th {\n        vertical-align: top;\n    }\n\n    .dataframe thead th {\n        text-align: right;\n    }\n</style>\n<table border=\"1\" class=\"dataframe\">\n  <thead>\n    <tr style=\"text-align: right;\">\n      <th></th>\n      <th>product_name</th>\n    </tr>\n    <tr>\n      <th>product_id</th>\n      <th></th>\n    </tr>\n  </thead>\n  <tbody>\n    <tr>\n      <td>591</td>\n      <td>Oreo Cookies and Cream Chocolate Frozen Dairy ...</td>\n    </tr>\n    <tr>\n      <td>796</td>\n      <td>Chocolate Reese's Peanut Butter Cup Creme Oreo</td>\n    </tr>\n    <tr>\n      <td>2409</td>\n      <td>Oreo Mini 20 Count Multipack 20oz</td>\n    </tr>\n    <tr>\n      <td>3126</td>\n      <td>Oreo Cookie n' Cream Yogurt</td>\n    </tr>\n    <tr>\n      <td>3260</td>\n      <td>Chips Ahoy!/Nutter Butter/Oreo Cookies</td>\n    </tr>\n    <tr>\n      <td>4057</td>\n      <td>Oreo Instant Cookies 'n Cream Pudding &amp; Pie Fi...</td>\n    </tr>\n    <tr>\n      <td>6681</td>\n      <td>11.3 Oz. Oreo Fudge Creme Double Chocolate</td>\n    </tr>\n    <tr>\n      <td>9278</td>\n      <td>Oreo Brownie Batter Cookies</td>\n    </tr>\n    <tr>\n      <td>9389</td>\n      <td>Oreo Mini/Nutter Butter Bites/Mini Chips Ahoy!...</td>\n    </tr>\n    <tr>\n      <td>10812</td>\n      <td>Peppermint Oreo</td>\n    </tr>\n    <tr>\n      <td>11281</td>\n      <td>Double Stuf Oreo Sandwich Cookies</td>\n    </tr>\n    <tr>\n      <td>12481</td>\n      <td>Oreo Chocolate Sandwich Cookies</td>\n    </tr>\n    <tr>\n      <td>13121</td>\n      <td>Oreo Thin Crisps 100 Cal Baked Chocolate Wafer...</td>\n    </tr>\n    <tr>\n      <td>13542</td>\n      <td>Oreo Cookies &amp; Cream Bars</td>\n    </tr>\n    <tr>\n      <td>13999</td>\n      <td>Oreo Cookie Sticks &amp; Creme Dip</td>\n    </tr>\n    <tr>\n      <td>14390</td>\n      <td>Oreo Mini Bite Size Chocolate Sandwich Cookies</td>\n    </tr>\n    <tr>\n      <td>14801</td>\n      <td>Coconut Delight Creme Fudge Oreo</td>\n    </tr>\n    <tr>\n      <td>16221</td>\n      <td>Golden Oreo Sandwich Cookies</td>\n    </tr>\n    <tr>\n      <td>16343</td>\n      <td>Chocolate Chip Oreo</td>\n    </tr>\n    <tr>\n      <td>16736</td>\n      <td>Oreo Cookie Pudding Snacks</td>\n    </tr>\n    <tr>\n      <td>17499</td>\n      <td>Golden Oreo Sandwich Cookies Mini Bite Size Go...</td>\n    </tr>\n    <tr>\n      <td>18709</td>\n      <td>Oreo Cookies and Cream Frozen Dairy Dessert</td>\n    </tr>\n    <tr>\n      <td>22015</td>\n      <td>Thin Mint Crisp Oreos</td>\n    </tr>\n    <tr>\n      <td>23552</td>\n      <td>Oreo Chocolate Candy Bar</td>\n    </tr>\n    <tr>\n      <td>23996</td>\n      <td>Halloween Oreos Sandwich Cookies</td>\n    </tr>\n    <tr>\n      <td>25412</td>\n      <td>No Bake Oreo Dessert</td>\n    </tr>\n    <tr>\n      <td>25493</td>\n      <td>Cookies 'n Cream with Oreo Cookie Pieces Lowfa...</td>\n    </tr>\n    <tr>\n      <td>25745</td>\n      <td>Oreo  Ice Cream Sandwiches</td>\n    </tr>\n    <tr>\n      <td>29184</td>\n      <td>Vanilla with Oreo/M&amp;Ms Variety Pack Lowfat Yogurt</td>\n    </tr>\n    <tr>\n      <td>29267</td>\n      <td>Mini Oreo Go Pak</td>\n    </tr>\n    <tr>\n      <td>29324</td>\n      <td>Oreo Triple Double Chocolate Sandwich Cookies</td>\n    </tr>\n    <tr>\n      <td>31536</td>\n      <td>Mini Oreo Golden Snak Sak</td>\n    </tr>\n    <tr>\n      <td>33186</td>\n      <td>Spring Oreo</td>\n    </tr>\n    <tr>\n      <td>34806</td>\n      <td>Oreo Chocolate White Fudge Covered Sandwich Co...</td>\n    </tr>\n    <tr>\n      <td>34936</td>\n      <td>Oreo Filled Cupcake</td>\n    </tr>\n    <tr>\n      <td>35063</td>\n      <td>Oreo Pumpkin Spice Limited Edition Cookies</td>\n    </tr>\n    <tr>\n      <td>35586</td>\n      <td>Golden Oreo Sandwich Cookies Family Size</td>\n    </tr>\n    <tr>\n      <td>37282</td>\n      <td>Oreo Cookies and Cream Mint Frozen Dairy Dessert</td>\n    </tr>\n    <tr>\n      <td>40007</td>\n      <td>Premium Oreo Ice Cream Cake</td>\n    </tr>\n    <tr>\n      <td>40414</td>\n      <td>Cewy Chips Ahoy! Oreo Creme Filled Cookies</td>\n    </tr>\n    <tr>\n      <td>40713</td>\n      <td>Sweet Chips Ahoy, Nutter Butter &amp; Oreo Cookie ...</td>\n    </tr>\n    <tr>\n      <td>43663</td>\n      <td>Oreo Double Stuf Heads Or Tails Sandwich Cookies</td>\n    </tr>\n    <tr>\n      <td>44595</td>\n      <td>Golden Oreo Thins</td>\n    </tr>\n    <tr>\n      <td>46160</td>\n      <td>Handi-Snacks Oreo Cookie Sticks 'n Creme Dip</td>\n    </tr>\n    <tr>\n      <td>47251</td>\n      <td>Peeps Oreo Limited Edition With Marshmallow Pe...</td>\n    </tr>\n    <tr>\n      <td>47758</td>\n      <td>Oreo Ice Cream Bars</td>\n    </tr>\n  </tbody>\n</table>\n</div>"
     },
     "metadata": {},
     "execution_count": 10
    }
   ],
   "source": [
    "search(products, 'Oreo')"
   ]
  },
  {
   "cell_type": "code",
   "execution_count": 11,
   "metadata": {},
   "outputs": [],
   "source": [
    "f = search(products, 'Oreo').index[:3]\n",
    "FF= get_all(products, f)"
   ]
  },
  {
   "cell_type": "code",
   "execution_count": 12,
   "metadata": {},
   "outputs": [
    {
     "output_type": "stream",
     "name": "stdout",
     "text": "Banana\nUnsweetened Iced Coffee\nHoneycrisp Apples\nOriginal Pepperoni Pizza\n2% Reduced Fat Milk\nFat Free Skim Milk\nOriginal Strawberry Banana Yogurt\nOriginal Strawberry Mango Yogurt\nBaby Spinach\nDark Chocolate Almond Milk\nStrawberries\nOriginal Nooks & Crannies English Muffins\nDouble Stuf Oreo Sandwich Cookies\nClassic Soda\nWhole Milk\nMini Peeled Carrots\nGreen Onions\nHass Avocados\nOreo Chocolate Sandwich Cookies\nClassic Mix Cookies & Crackers\nOreo Mini/Nutter Butter Bites/Mini Chips Ahoy! Cookies\nof Hanover 100 Calorie Pretzels Mini\nFridge Pack Cola\nOriginal Superfood Fruit Smoothie Blend\nMo' Beta Fruit Smoothie Blend\nPepperidge Farm® Goldfish Xtra Cheddar Baked Snack Crackers\nChocolate Chip Cookies\nCereal with Real Strawberries\n"
    }
   ],
   "source": [
    "for k in FF:\n",
    "    print(get_product(products, k))"
   ]
  },
  {
   "cell_type": "code",
   "execution_count": 13,
   "metadata": {},
   "outputs": [],
   "source": [
    "with open('output/sparse_frame.pkl', 'wb') as f:\n",
    "    pickle.dump(sparse_frame, f)"
   ]
  },
  {
   "cell_type": "code",
   "execution_count": null,
   "metadata": {},
   "outputs": [],
   "source": []
  }
 ],
 "metadata": {
  "kernelspec": {
   "display_name": "Python 3",
   "language": "python",
   "name": "python3"
  },
  "language_info": {
   "codemirror_mode": {
    "name": "ipython",
    "version": 3
   },
   "file_extension": ".py",
   "mimetype": "text/x-python",
   "name": "python",
   "nbconvert_exporter": "python",
   "pygments_lexer": "ipython3",
   "version": "3.7.4-final"
  }
 },
 "nbformat": 4,
 "nbformat_minor": 2
}