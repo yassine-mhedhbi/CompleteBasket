{
 "cells": [
  {
   "cell_type": "code",
   "execution_count": 2,
   "metadata": {},
   "outputs": [],
   "source": [
    "import pandas as pd\n",
    "import numpy as np\n",
    "import scipy.sparse as sp\n",
    "import pickle\n",
    "import random"
   ]
  },
  {
   "cell_type": "code",
   "execution_count": 13,
   "metadata": {},
   "outputs": [],
   "source": [
    "with open('output/BasicAsso.pkl', 'rb') as f:\n",
    "        smat = pickle.load(f)"
   ]
  },
  {
   "cell_type": "code",
   "execution_count": 14,
   "metadata": {},
   "outputs": [
    {
     "data": {
      "text/html": [
       "<div>\n",
       "<style scoped>\n",
       "    .dataframe tbody tr th:only-of-type {\n",
       "        vertical-align: middle;\n",
       "    }\n",
       "\n",
       "    .dataframe tbody tr th {\n",
       "        vertical-align: top;\n",
       "    }\n",
       "\n",
       "    .dataframe thead th {\n",
       "        text-align: right;\n",
       "    }\n",
       "</style>\n",
       "<table border=\"1\" class=\"dataframe\">\n",
       "  <thead>\n",
       "    <tr style=\"text-align: right;\">\n",
       "      <th></th>\n",
       "      <th>product_name</th>\n",
       "    </tr>\n",
       "    <tr>\n",
       "      <th>product_id</th>\n",
       "      <th></th>\n",
       "    </tr>\n",
       "  </thead>\n",
       "  <tbody>\n",
       "    <tr>\n",
       "      <th>1</th>\n",
       "      <td>Chocolate Sandwich Cookies</td>\n",
       "    </tr>\n",
       "    <tr>\n",
       "      <th>2</th>\n",
       "      <td>All-Seasons Salt</td>\n",
       "    </tr>\n",
       "    <tr>\n",
       "      <th>3</th>\n",
       "      <td>Robust Golden Unsweetened Oolong Tea</td>\n",
       "    </tr>\n",
       "    <tr>\n",
       "      <th>4</th>\n",
       "      <td>Smart Ones Classic Favorites Mini Rigatoni Wit...</td>\n",
       "    </tr>\n",
       "    <tr>\n",
       "      <th>5</th>\n",
       "      <td>Green Chile Anytime Sauce</td>\n",
       "    </tr>\n",
       "  </tbody>\n",
       "</table>\n",
       "</div>"
      ],
      "text/plain": [
       "                                                 product_name\n",
       "product_id                                                   \n",
       "1                                  Chocolate Sandwich Cookies\n",
       "2                                            All-Seasons Salt\n",
       "3                        Robust Golden Unsweetened Oolong Tea\n",
       "4           Smart Ones Classic Favorites Mini Rigatoni Wit...\n",
       "5                                   Green Chile Anytime Sauce"
      ]
     },
     "execution_count": 14,
     "metadata": {},
     "output_type": "execute_result"
    }
   ],
   "source": [
    "products = pd.read_csv('src/data/products.csv').set_index('product_id')[['product_name']]\n",
    "products.head()"
   ]
  },
  {
   "cell_type": "code",
   "execution_count": 15,
   "metadata": {},
   "outputs": [],
   "source": [
    "sparse_frame = pd.DataFrame.sparse.from_spmatrix(smat)"
   ]
  },
  {
   "cell_type": "code",
   "execution_count": 16,
   "metadata": {},
   "outputs": [],
   "source": [
    "def search(df, item):\n",
    "    return df[df.product_name.str.contains(item)]"
   ]
  },
  {
   "cell_type": "code",
   "execution_count": 17,
   "metadata": {},
   "outputs": [
    {
     "data": {
      "text/html": [
       "<div>\n",
       "<style scoped>\n",
       "    .dataframe tbody tr th:only-of-type {\n",
       "        vertical-align: middle;\n",
       "    }\n",
       "\n",
       "    .dataframe tbody tr th {\n",
       "        vertical-align: top;\n",
       "    }\n",
       "\n",
       "    .dataframe thead th {\n",
       "        text-align: right;\n",
       "    }\n",
       "</style>\n",
       "<table border=\"1\" class=\"dataframe\">\n",
       "  <thead>\n",
       "    <tr style=\"text-align: right;\">\n",
       "      <th></th>\n",
       "      <th>product_name</th>\n",
       "    </tr>\n",
       "    <tr>\n",
       "      <th>product_id</th>\n",
       "      <th></th>\n",
       "    </tr>\n",
       "  </thead>\n",
       "  <tbody>\n",
       "    <tr>\n",
       "      <th>665</th>\n",
       "      <td>Imitation Crabmeat</td>\n",
       "    </tr>\n",
       "    <tr>\n",
       "      <th>2595</th>\n",
       "      <td>Tender white meat chicken, vegetables &amp; rice i...</td>\n",
       "    </tr>\n",
       "    <tr>\n",
       "      <th>5124</th>\n",
       "      <td>Freshly made pasta layered with seasoned meat ...</td>\n",
       "    </tr>\n",
       "    <tr>\n",
       "      <th>5568</th>\n",
       "      <td>Lunchmeat</td>\n",
       "    </tr>\n",
       "    <tr>\n",
       "      <th>6212</th>\n",
       "      <td>White meat chicken, shredded cabbage, julienne...</td>\n",
       "    </tr>\n",
       "    <tr>\n",
       "      <th>8344</th>\n",
       "      <td>A golden crust surrounding pieces of all white...</td>\n",
       "    </tr>\n",
       "    <tr>\n",
       "      <th>11919</th>\n",
       "      <td>Tender white meat chicken in a red chile lime ...</td>\n",
       "    </tr>\n",
       "    <tr>\n",
       "      <th>15125</th>\n",
       "      <td>Tender white meat turkey &amp; stuffing in a homes...</td>\n",
       "    </tr>\n",
       "    <tr>\n",
       "      <th>16600</th>\n",
       "      <td>With seasoned meat sauce, tomato sauce &amp; real ...</td>\n",
       "    </tr>\n",
       "    <tr>\n",
       "      <th>17223</th>\n",
       "      <td>Freshly made spaghetti tossed with meatballs i...</td>\n",
       "    </tr>\n",
       "    <tr>\n",
       "      <th>18188</th>\n",
       "      <td>Grilled white meat chicken over cheese tortell...</td>\n",
       "    </tr>\n",
       "    <tr>\n",
       "      <th>21484</th>\n",
       "      <td>Naturals Applewood Smoked Ham Lunchmeat</td>\n",
       "    </tr>\n",
       "    <tr>\n",
       "      <th>24425</th>\n",
       "      <td>Freshly made pasta, rich meat sauce and Real M...</td>\n",
       "    </tr>\n",
       "    <tr>\n",
       "      <th>25307</th>\n",
       "      <td>Tender white meat turkey, pasta, mushrooms and...</td>\n",
       "    </tr>\n",
       "    <tr>\n",
       "      <th>31104</th>\n",
       "      <td>Grilled white meat chicken &amp; penne pasta in a ...</td>\n",
       "    </tr>\n",
       "    <tr>\n",
       "      <th>31329</th>\n",
       "      <td>Tender white meat chicken, vegetables &amp; rice i...</td>\n",
       "    </tr>\n",
       "    <tr>\n",
       "      <th>35413</th>\n",
       "      <td>Freshly made pasta layered between a rich meat...</td>\n",
       "    </tr>\n",
       "    <tr>\n",
       "      <th>40732</th>\n",
       "      <td>White meat chipotle chicken, corn, black beans...</td>\n",
       "    </tr>\n",
       "    <tr>\n",
       "      <th>42577</th>\n",
       "      <td>Grilled white meat chicken in an apple reducti...</td>\n",
       "    </tr>\n",
       "    <tr>\n",
       "      <th>44265</th>\n",
       "      <td>Roasted white meat chicken, whole wheat noodle...</td>\n",
       "    </tr>\n",
       "    <tr>\n",
       "      <th>48126</th>\n",
       "      <td>Braunschweiger Lunchmeat</td>\n",
       "    </tr>\n",
       "    <tr>\n",
       "      <th>49427</th>\n",
       "      <td>Premium Select Wild Fancy White Crabmeat</td>\n",
       "    </tr>\n",
       "  </tbody>\n",
       "</table>\n",
       "</div>"
      ],
      "text/plain": [
       "                                                 product_name\n",
       "product_id                                                   \n",
       "665                                        Imitation Crabmeat\n",
       "2595        Tender white meat chicken, vegetables & rice i...\n",
       "5124        Freshly made pasta layered with seasoned meat ...\n",
       "5568                                                Lunchmeat\n",
       "6212        White meat chicken, shredded cabbage, julienne...\n",
       "8344        A golden crust surrounding pieces of all white...\n",
       "11919       Tender white meat chicken in a red chile lime ...\n",
       "15125       Tender white meat turkey & stuffing in a homes...\n",
       "16600       With seasoned meat sauce, tomato sauce & real ...\n",
       "17223       Freshly made spaghetti tossed with meatballs i...\n",
       "18188       Grilled white meat chicken over cheese tortell...\n",
       "21484                 Naturals Applewood Smoked Ham Lunchmeat\n",
       "24425       Freshly made pasta, rich meat sauce and Real M...\n",
       "25307       Tender white meat turkey, pasta, mushrooms and...\n",
       "31104       Grilled white meat chicken & penne pasta in a ...\n",
       "31329       Tender white meat chicken, vegetables & rice i...\n",
       "35413       Freshly made pasta layered between a rich meat...\n",
       "40732       White meat chipotle chicken, corn, black beans...\n",
       "42577       Grilled white meat chicken in an apple reducti...\n",
       "44265       Roasted white meat chicken, whole wheat noodle...\n",
       "48126                                Braunschweiger Lunchmeat\n",
       "49427                Premium Select Wild Fancy White Crabmeat"
      ]
     },
     "execution_count": 17,
     "metadata": {},
     "output_type": "execute_result"
    }
   ],
   "source": [
    "search(products, 'meat')"
   ]
  },
  {
   "cell_type": "code",
   "execution_count": 18,
   "metadata": {},
   "outputs": [],
   "source": [
    "def get_product(df, pid):\n",
    "    return df.loc[pid].product_name\n",
    "\n",
    "def get_all_cocart(sp_mat, pid, top=10):\n",
    "    # sp_mat[pid] column product count, row product count: sp_mat.loc[pid] (index is the product id) \n",
    "    # We are doing this because we have triangular matrix\n",
    "    return pd.concat((sp_mat[pid], sp_mat.loc[pid])).dropna().nlargest(top)\n",
    "\n",
    "\n",
    "def get_cocart(df, pid):\n",
    "    json = {}\n",
    "    for idx, val in get_all_cocart(sparse_frame, pid).iteritems():\n",
    "        if val > 0:\n",
    "            json[idx] =  val\n",
    "    json = {get_product(df, pid): json}\n",
    "    return json"
   ]
  },
  {
   "cell_type": "code",
   "execution_count": 20,
   "metadata": {},
   "outputs": [
    {
     "name": "stderr",
     "output_type": "stream",
     "text": [
      "C:\\Users\\kaito_kid14\\AppData\\Local\\Temp\\ipykernel_25916\\1191152058.py:12: FutureWarning: iteritems is deprecated and will be removed in a future version. Use .items instead.\n",
      "  for idx, val in get_all_cocart(sparse_frame, pid).iteritems():\n"
     ]
    },
    {
     "data": {
      "text/plain": [
       "{'Organic Spaghetti Style Pasta': {13176: 8,\n",
       "  24852: 8,\n",
       "  28985: 6,\n",
       "  41950: 6,\n",
       "  48679: 6,\n",
       "  1158: 5,\n",
       "  4145: 5,\n",
       "  5876: 5,\n",
       "  30391: 5,\n",
       "  31717: 5}}"
      ]
     },
     "execution_count": 20,
     "metadata": {},
     "output_type": "execute_result"
    }
   ],
   "source": [
    "get_cocart(products, 33)"
   ]
  },
  {
   "cell_type": "code",
   "execution_count": 21,
   "metadata": {},
   "outputs": [],
   "source": [
    "def get_all(df, idxx):\n",
    "    all_responses = [get_cocart(df, idx)[get_product(df, idx)] for idx in idxx]\n",
    "    d = {}\n",
    "    for resp in all_responses:\n",
    "        d = {**d, **resp}\n",
    "    return d"
   ]
  },
  {
   "cell_type": "code",
   "execution_count": 22,
   "metadata": {},
   "outputs": [
    {
     "name": "stderr",
     "output_type": "stream",
     "text": [
      "C:\\Users\\kaito_kid14\\AppData\\Local\\Temp\\ipykernel_25916\\1191152058.py:12: FutureWarning: iteritems is deprecated and will be removed in a future version. Use .items instead.\n",
      "  for idx, val in get_all_cocart(sparse_frame, pid).iteritems():\n",
      "C:\\Users\\kaito_kid14\\AppData\\Local\\Temp\\ipykernel_25916\\1191152058.py:12: FutureWarning: iteritems is deprecated and will be removed in a future version. Use .items instead.\n",
      "  for idx, val in get_all_cocart(sparse_frame, pid).iteritems():\n",
      "C:\\Users\\kaito_kid14\\AppData\\Local\\Temp\\ipykernel_25916\\1191152058.py:12: FutureWarning: iteritems is deprecated and will be removed in a future version. Use .items instead.\n",
      "  for idx, val in get_all_cocart(sparse_frame, pid).iteritems():\n"
     ]
    }
   ],
   "source": [
    "f = search(products, 'Oreo').index[:3]\n",
    "FF= get_all(products, f)"
   ]
  },
  {
   "cell_type": "code",
   "execution_count": 23,
   "metadata": {},
   "outputs": [
    {
     "name": "stdout",
     "output_type": "stream",
     "text": [
      "Banana\n",
      "Unsweetened Iced Coffee\n",
      "Honeycrisp Apples\n",
      "Original Pepperoni Pizza\n",
      "2% Reduced Fat Milk\n",
      "Fat Free Skim Milk\n",
      "Original Strawberry Banana Yogurt\n",
      "Original Strawberry Mango Yogurt\n",
      "Baby Spinach\n",
      "Dark Chocolate Almond Milk\n",
      "Strawberries\n",
      "Original Nooks & Crannies English Muffins\n",
      "Double Stuf Oreo Sandwich Cookies\n",
      "Classic Soda\n",
      "Whole Milk\n",
      "Mini Peeled Carrots\n",
      "Green Onions\n",
      "Hass Avocados\n",
      "Oreo Chocolate Sandwich Cookies\n",
      "Classic Mix Cookies & Crackers\n",
      "Oreo Mini/Nutter Butter Bites/Mini Chips Ahoy! Cookies\n",
      "of Hanover 100 Calorie Pretzels Mini\n",
      "Fridge Pack Cola\n",
      "Original Superfood Fruit Smoothie Blend\n",
      "Mo' Beta Fruit Smoothie Blend\n",
      "Pepperidge Farm® Goldfish Xtra Cheddar Baked Snack Crackers\n",
      "Chocolate Chip Cookies\n",
      "Cereal with Real Strawberries\n"
     ]
    }
   ],
   "source": [
    "for k in FF:\n",
    "    print(get_product(products, k))"
   ]
  },
  {
   "cell_type": "code",
   "execution_count": 13,
   "metadata": {},
   "outputs": [],
   "source": [
    "with open('output/sparse_frame.pkl', 'wb') as f:\n",
    "    pickle.dump(sparse_frame, f)"
   ]
  },
  {
   "cell_type": "code",
   "execution_count": null,
   "metadata": {},
   "outputs": [],
   "source": []
  }
 ],
 "metadata": {
  "kernelspec": {
   "display_name": "Python 3",
   "language": "python",
   "name": "python3"
  },
  "language_info": {
   "codemirror_mode": {
    "name": "ipython",
    "version": 3
   },
   "file_extension": ".py",
   "mimetype": "text/x-python",
   "name": "python",
   "nbconvert_exporter": "python",
   "pygments_lexer": "ipython3",
   "version": "3.10.10"
  }
 },
 "nbformat": 4,
 "nbformat_minor": 2
}
